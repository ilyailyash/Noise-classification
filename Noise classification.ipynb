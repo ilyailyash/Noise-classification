{
 "cells": [
  {
   "cell_type": "code",
   "execution_count": 1,
   "metadata": {
    "collapsed": true
   },
   "outputs": [],
   "source": [
    "import fnmatch\n",
    "import os\n",
    "import random\n",
    "import re\n",
    "import threading\n",
    "import pandas as pd\n",
    "import time\n",
    "import copy\n",
    "\n",
    "import librosa\n",
    "import numpy as np\n",
    "\n",
    "\n",
    "import matplotlib.pyplot as plt\n",
    "\n",
    "%matplotlib inline\n",
    "\n",
    "FILE_PATTERN = r'*.wav'"
   ]
  },
  {
   "cell_type": "code",
   "execution_count": 2,
   "metadata": {
    "collapsed": true
   },
   "outputs": [],
   "source": [
    "from sklearn.model_selection import train_test_split, KFold, cross_val_score, GridSearchCV\n",
    "from sklearn.model_selection import validation_curve, learning_curve\n",
    "from sklearn.metrics import log_loss, accuracy_score\n",
    "from sklearn.ensemble import RandomForestClassifier, AdaBoostClassifier\n",
    "from sklearn.svm import SVC\n",
    "from xgboost import XGBClassifier"
   ]
  },
  {
   "cell_type": "markdown",
   "metadata": {},
   "source": [
    "# Load data"
   ]
  },
  {
   "cell_type": "code",
   "execution_count": 3,
   "metadata": {
    "collapsed": true
   },
   "outputs": [],
   "source": [
    "def randomize_files(files):\n",
    "    '''Shuffle loaded files'''\n",
    "    for file in files:\n",
    "        file_index = random.randint(0, (len(files) - 1))\n",
    "        yield files[file_index]\n",
    "\n",
    "\n",
    "def find_files(directory, pattern='*.wav'):\n",
    "    '''Recursively finds all files matching the pattern.'''\n",
    "    files = []\n",
    "    fnames = []\n",
    "    for root, dirnames, filenames in os.walk(directory):\n",
    "        for filename in fnmatch.filter(filenames, pattern):\n",
    "            files.append(os.path.join(root, filename))\n",
    "            fnames.append(filename)\n",
    "    return files, fnames\n",
    "\n",
    "def get_category(fname):\n",
    "    '''Parse type from fnamepar'''\n",
    "    return fname.split('/')[-1].split('_')[0]\n",
    "\n",
    "def load_generic_audio(files, sample_rate, amount):\n",
    "    '''Generator that yields audio waveforms from the directory.'''\n",
    "    for it, filename in enumerate(files):\n",
    "        if it == amount:\n",
    "            break\n",
    "        category_id = get_category(filename)\n",
    "        audio, _ = librosa.load(filename, sr=sample_rate, mono=True)\n",
    "        audio = audio.reshape(-1, 1)\n",
    "        yield audio, filename, category_id\n",
    "\n",
    "# Второе дополнительное задание !!!\n",
    "def trim_silence(audio, threshold, frame_length=512):\n",
    "    '''Removes silence at the beginning and end of a sample.'''\n",
    "    if audio.size < frame_length:\n",
    "        frame_length = audio.size\n",
    "    energy = librosa.feature.rmse(audio, frame_length=frame_length)\n",
    "    frames = np.nonzero(energy > threshold)\n",
    "    indices = librosa.core.frames_to_samples(frames)[1]\n",
    "\n",
    "    # Indices can be an empty array, if the whole audio was background.\n",
    "    return audio[indices[0]:indices[-1]] if indices.size else audio[0:0]\n",
    "\n",
    "\n",
    "\n",
    "class AudioReader(object):\n",
    "    '''Noise audio reader that preprocesses audio files\n",
    "    and add tham in lists'''\n",
    "\n",
    "    def __init__(self,\n",
    "                 audio_dir,\n",
    "                 sample_rate,\n",
    "                 silence_threshold=None,\n",
    "                 sample_size=None,\n",
    "                 load_size=None):\n",
    "        self.audio_dir = audio_dir\n",
    "        self.sample_rate = sample_rate\n",
    "        self.sample_size = sample_size\n",
    "        self.silence_threshold = silence_threshold\n",
    "        self.load_size = load_size\n",
    "        self.counter = 0\n",
    "        self.time = time.time()\n",
    "\n",
    "        # TODO Find a better way to check this and deal with empty audio.\n",
    "        \n",
    "        self.files, self.fnames = find_files(audio_dir)\n",
    "        if not self.files:\n",
    "            raise ValueError(\"No audio files found in '{}'.\".format(audio_dir))\n",
    "        self.pred_category = np.full(len(self.files), True)\n",
    "        if load_size is not None:\n",
    "            self.data = [0]*load_size\n",
    "            self.id = [0]*load_size\n",
    "        else:    \n",
    "            self.data = [0]*len(self.files)\n",
    "            self.id = [0]*len(self.files)\n",
    "\n",
    "\n",
    "    def read(self):\n",
    "        #Read dataset\n",
    "        \n",
    "        iterator = load_generic_audio(self.files, self.sample_rate, self.load_size)\n",
    "        for audio, filename, category_id in iterator:\n",
    "            if self.silence_threshold is not None:\n",
    "                # Remove silence\n",
    "                audio = trim_silence(audio[:, 0], self.silence_threshold)\n",
    "                audio = audio.reshape(-1)\n",
    "                if audio.size == 0:\n",
    "                    self.pred_category[self.counter]=False\n",
    "\n",
    "\n",
    "            self.data[self.counter] = audio\n",
    "            self.id[self.counter] = category_id\n",
    "            self.counter += 1\n",
    "            if self.counter % 400 == 0:\n",
    "                print (time.time() - self.time,self.counter)\n",
    "        return self"
   ]
  },
  {
   "cell_type": "code",
   "execution_count": 4,
   "metadata": {
    "collapsed": true
   },
   "outputs": [],
   "source": [
    "audio_dir = './data_v_7_stc/audio' \n",
    "sr = 16000\n",
    "silence_threshold = 8e-4\n",
    "drop = False #use zero-size sample at training and predictions "
   ]
  },
  {
   "cell_type": "code",
   "execution_count": 5,
   "metadata": {
    "scrolled": true
   },
   "outputs": [
    {
     "name": "stdout",
     "output_type": "stream",
     "text": [
      "28.609904050827026 400\n",
      "56.786693811416626 800\n",
      "84.13469386100769 1200\n",
      "110.01490807533264 1600\n",
      "140.36441731452942 2000\n",
      "171.96552348136902 2400\n",
      "196.67876839637756 2800\n",
      "221.30880880355835 3200\n",
      "243.22941279411316 3600\n",
      "266.632159948349 4000\n",
      "289.8699312210083 4400\n",
      "311.22523498535156 4800\n",
      "335.4297230243683 5200\n",
      "360.63326120376587 5600\n",
      "385.2732799053192 6000\n",
      "408.42578864097595 6400\n",
      "432.107764005661 6800\n",
      "457.73595666885376 7200\n",
      "481.79045581817627 7600\n",
      "503.4119701385498 8000\n",
      "527.0349056720734 8400\n",
      "549.1328737735748 8800\n",
      "573.4507989883423 9200\n",
      "597.5260236263275 9600\n",
      "619.9388945102692 10000\n",
      "648.0736994743347 10400\n",
      "670.6103389263153 10800\n",
      "696.609797000885 11200\n"
     ]
    },
    {
     "data": {
      "text/plain": [
       "<__main__.AudioReader at 0x7f8eee426d30>"
      ]
     },
     "execution_count": 5,
     "metadata": {},
     "output_type": "execute_result"
    }
   ],
   "source": [
    "audio_reader = AudioReader(audio_dir,sr,silence_threshold=silence_threshold,load_size=None)\n",
    "audio_reader.read()"
   ]
  },
  {
   "cell_type": "code",
   "execution_count": 6,
   "metadata": {},
   "outputs": [],
   "source": [
    "meta = pd.read_csv('./data_v_7_stc/meta/meta.txt',sep = '\\t')\n",
    "meta.drop(columns=['*','time_start'],inplace=True)\n",
    "to = {'background':0,'bags':1,'door':2,'keyboard':3,'knocking_door':4,'ring':5,'speech':6,'tool':7}\n",
    "fr = {0:'background',1:'bags',2:'door',3:'keyboard',4:'knocking_door',5:'ring',6:'speech',7:'tool'}\n",
    "meta['type'] = meta['type'].map(to)\n",
    "mask = np.invert(audio_reader.pred_category)"
   ]
  },
  {
   "cell_type": "markdown",
   "metadata": {},
   "source": [
    "# Choice of silence_threshold"
   ]
  },
  {
   "cell_type": "code",
   "execution_count": 153,
   "metadata": {
    "scrolled": true
   },
   "outputs": [
    {
     "name": "stdout",
     "output_type": "stream",
     "text": [
      "(1, 91) (46086,) 16000\n"
     ]
    },
    {
     "data": {
      "image/png": "[encoded data removed]",
      "text/plain": [
       "<matplotlib.figure.Figure at 0x7f9904dbc278>"
      ]
     },
     "metadata": {},
     "output_type": "display_data"
    }
   ],
   "source": [
    "path = './data_v_7_stc/audio/background_0019_time_stretch_13.wav' \n",
    "sr = 16000\n",
    "audio, _ = librosa.load(path, sr=sr, mono=True)\n",
    "energy = librosa.feature.rmse(audio, frame_length=512)\n",
    "print (energy.shape, audio.shape, 16000)\n",
    "plt.plot(energy.reshape(-1), 'rx');"
   ]
  },
  {
   "cell_type": "code",
   "execution_count": 116,
   "metadata": {},
   "outputs": [
    {
     "data": {
      "text/plain": [
       "<map at 0x7f9906650198>"
      ]
     },
     "execution_count": 116,
     "metadata": {},
     "output_type": "execute_result"
    }
   ],
   "source": [
    "files = find_files('./data_v_7_stc/audio')\n",
    "files[0].split('/')[-1].split('_')[0]\n",
    "def get_type(a):\n",
    "    return a.split('/')[-1].split('_')[0]"
   ]
  },
  {
   "cell_type": "code",
   "execution_count": 223,
   "metadata": {
    "scrolled": false
   },
   "outputs": [
    {
     "name": "stdout",
     "output_type": "stream",
     "text": [
      "background_0001.wav 0.00131564\n",
      "background_0001_time_stretch_5.wav 0.00131575\n",
      "background_0004.wav 0.00503398\n",
      "background_0004_time_stretch_1.wav 0.00526163\n",
      "background_0007.wav 0.00769703\n",
      "background_0014.wav 0.0453071\n",
      "background_0014_time_stretch_0.wav 0.0506213\n",
      "background_0042.wav 0.182996\n",
      "background_0042_time_stretch_0.wav 0.189449\n",
      "background_0042_time_stretch_3.wav 0.191987\n",
      "0.191987\n"
     ]
    }
   ],
   "source": [
    "s = 0\n",
    "files = meta[meta['type'] == 0]['fname']\n",
    "rm = np.zeros((len(files),4))\n",
    "for i, file in  enumerate(files):\n",
    "    path = audio_dir + '/' + file\n",
    "    audio, _ = librosa.load(path, sr=sr, mono=True)\n",
    "    energy = librosa.feature.rmse(audio, frame_length=512) \n",
    "    rm[i] = (energy.max(),energy.mean(),energy.std(),energy.min())\n",
    "    if energy.max() > s:\n",
    "        s = energy.max()\n",
    "plt.hist(rm1[:,1], bins=12)"
   ]
  },
  {
   "cell_type": "code",
   "execution_count": 190,
   "metadata": {},
   "outputs": [
    {
     "name": "stdout",
     "output_type": "stream",
     "text": [
      "bags_0001.wav 0.0541228\n",
      "bags_0002.wav 0.24719\n",
      "bags_0033.wav 0.301132\n",
      "bags_0033_time_stretch_3.wav 0.310277\n",
      "bg_0009.wav 0.363868\n",
      "bg_0010.wav 0.522466\n",
      "0.522466\n"
     ]
    }
   ],
   "source": [
    "s = 0\n",
    "files2 = meta[meta['type'] == 1]['fname']\n",
    "rm2 = np.zeros((len(files2),4))\n",
    "for i, file in  enumerate(files2):\n",
    "    path = audio_dir + '/' + file\n",
    "    audio, _ = librosa.load(path, sr=sr, mono=True)\n",
    "    energy = librosa.feature.rmse(audio, frame_length=512) \n",
    "    rm2[i] = (energy.max(),energy.mean(),energy.std(),energy.min())\n",
    "    if energy.max() > s:\n",
    "        s = energy.max()\n",
    "plt.hist(rm2[:,1], bins=12)"
   ]
  },
  {
   "cell_type": "code",
   "execution_count": 9,
   "metadata": {},
   "outputs": [
    {
     "data": {
      "text/plain": [
       "(array([   0.,    0.,    0.,    0.,  516.,    0.,    0.,    0.]),\n",
       " array([-0.5  , -0.375, -0.25 , -0.125,  0.   ,  0.125,  0.25 ,  0.375,  0.5  ]),\n",
       " <a list of 8 Patch objects>)"
      ]
     },
     "execution_count": 9,
     "metadata": {},
     "output_type": "execute_result"
    },
    {
     "data": {
      "image/png": "[encoded data removed]",
      "text/plain": [
       "<matplotlib.figure.Figure at 0x7fb616a09da0>"
      ]
     },
     "metadata": {},
     "output_type": "display_data"
    }
   ],
   "source": [
    "# hist of threshold sample by catigory\n",
    "\n",
    "meta2 = meta.set_index('fname')\n",
    "files = [0]*len(audio_reader.files)\n",
    "for i,f in enumerate(audio_reader.files):\n",
    "    files[i]=f.split('/')[-1]\n",
    "y_train = np.array(meta2.loc[files]['type'])\n",
    "zerro_level = y_train[mask]\n",
    "plt.hist(zerro_level,bins = 8)\n"
   ]
  },
  {
   "cell_type": "markdown",
   "metadata": {},
   "source": [
    "# Feature Extraction"
   ]
  },
  {
   "cell_type": "markdown",
   "metadata": {},
   "source": [
    "## 1.All feature"
   ]
  },
  {
   "cell_type": "code",
   "execution_count": 7,
   "metadata": {
    "collapsed": true
   },
   "outputs": [],
   "source": [
    "def extract_feature(X,sample_rate):\n",
    "    stft = np.abs(librosa.stft(X))\n",
    "    mfccs = np.mean(librosa.feature.mfcc(y=X, sr=sample_rate, n_mfcc=40).T,axis=0)\n",
    "    chroma = np.mean(librosa.feature.chroma_stft(S=stft, sr=sample_rate).T,axis=0)\n",
    "    mel = np.mean(librosa.feature.melspectrogram(X, sr=sample_rate).T,axis=0)\n",
    "    contrast = np.mean(librosa.feature.spectral_contrast(S=stft, sr=sample_rate).T,axis=0)\n",
    "#     tonnetz = np.mean(librosa.feature.tonnetz(y=librosa.effects.harmonic(X), sr=sample_rate).T,axis=0)\n",
    "    return mfccs,chroma,mel,contrast"
   ]
  },
  {
   "cell_type": "code",
   "execution_count": 8,
   "metadata": {
    "scrolled": true
   },
   "outputs": [
    {
     "name": "stdout",
     "output_type": "stream",
     "text": [
      "0 0.7706301212310791\n",
      "500 25.03000497817993\n"
     ]
    },
    {
     "name": "stderr",
     "output_type": "stream",
     "text": [
      "/home/ilya/anaconda3/lib/python3.6/site-packages/librosa/core/pitch.py:145: UserWarning: Trying to estimate tuning from empty frequency set.\n",
      "  warnings.warn('Trying to estimate tuning from empty frequency set.')\n"
     ]
    },
    {
     "name": "stdout",
     "output_type": "stream",
     "text": [
      "1000 46.00137400627136\n",
      "1500 67.7959680557251\n",
      "2000 91.39860916137695\n",
      "2500 116.05993962287903\n",
      "3000 137.24662017822266\n",
      "3500 156.7050952911377\n",
      "4000 176.81011581420898\n",
      "4500 198.76968717575073\n",
      "5500 240.84956550598145\n",
      "6000 263.1098737716675\n",
      "6500 283.9925694465637\n",
      "7000 304.77506041526794\n",
      "7500 324.5779366493225\n",
      "8000 346.3171019554138\n",
      "8500 366.4724006652832\n",
      "9000 385.82745242118835\n",
      "9500 407.44711232185364\n",
      "10000 433.6474587917328\n",
      "10500 452.80565452575684\n",
      "11000 472.25967049598694\n"
     ]
    }
   ],
   "source": [
    "n=len(audio_reader.data)\n",
    "X_train = np.zeros((n,187))\n",
    "start = time.time()\n",
    "for i,arr in enumerate(audio_reader.data):\n",
    "    if arr.size == 0:\n",
    "        continue\n",
    "    mfccs, chroma, mel, contrast= extract_feature(arr,sr)\n",
    "    X_train[i] = np.hstack([mfccs,chroma,mel,contrast])\n",
    "    if i%500 == 0:\n",
    "        print (i, time.time()-start)\n",
    "meta2 = meta.set_index('fname')\n",
    "files = [0]*len(audio_reader.files)\n",
    "for i,f in enumerate(audio_reader.files):\n",
    "    files[i]=f.split('/')[-1]\n",
    "y_train = np.array(meta2.loc[files]['type'])"
   ]
  },
  {
   "cell_type": "code",
   "execution_count": 9,
   "metadata": {
    "collapsed": true
   },
   "outputs": [],
   "source": [
    "np.save('y_train',y_train)\n",
    "np.save('all_features_train',X_train)"
   ]
  },
  {
   "cell_type": "code",
   "execution_count": 10,
   "metadata": {},
   "outputs": [
    {
     "name": "stdout",
     "output_type": "stream",
     "text": [
      "6.119609355926514 400\n",
      "0 0.05855250358581543\n",
      "500 22.81306219100952\n"
     ]
    }
   ],
   "source": [
    "test_dir='./data_v_7_stc/test'\n",
    "test_reader = AudioReader(test_dir,sr,silence_threshold=silence_threshold)\n",
    "test_reader.read()\n",
    "n=len(test_reader.data)\n",
    "X_full = np.zeros((n,187))\n",
    "start = time.time()\n",
    "for i,arr in enumerate(test_reader.data):\n",
    "    if arr.size == 0:\n",
    "        continue\n",
    "    mfccs, chroma, mel, contrast= extract_feature(arr,sr)\n",
    "    X_full[i] = np.hstack([mfccs,chroma,mel,contrast])\n",
    "    if i%500 == 0:\n",
    "        print (i, time.time()-start)\n",
    "to = {'background':0,'bags':1,'door':2,'keyboard':3,'knocking':4,'ring':5,'speech':6,'tool':7}\n",
    "T = np.array(test_reader.id)\n",
    "X_test, y_test =X_full[T != 'unknown'],  np.array([to[x] for x in T[T != 'unknown']])\n",
    "X_unknown = X_full[T == 'unknown']\n",
    "mask_test = np.invert(test_reader.pred_category[T != 'unknown'])"
   ]
  },
  {
   "cell_type": "code",
   "execution_count": 11,
   "metadata": {
    "collapsed": true
   },
   "outputs": [],
   "source": [
    "np.save('T',T)\n",
    "np.save('X_full_test_all_features',X_full)"
   ]
  },
  {
   "cell_type": "code",
   "execution_count": 12,
   "metadata": {},
   "outputs": [],
   "source": [
    "if drop:\n",
    "    _X_train, _y_train = copy.deepcopy(X_train), copy.deepcopy(y_train)\n",
    "    X_train, y_train = X_train[audio_reader.pred_category], y_train[audio_reader.pred_category]"
   ]
  },
  {
   "cell_type": "markdown",
   "metadata": {},
   "source": [
    "### Load features"
   ]
  },
  {
   "cell_type": "code",
   "execution_count": 8,
   "metadata": {},
   "outputs": [],
   "source": [
    "#Load pre_saved feature\n",
    "X_train = np.load('all_features_train.npy')\n",
    "y_train = np.load('y_train.npy')\n",
    "X_full = np.load('X_full_test_all_features.npy')\n",
    "T = np.load('T.npy')\n",
    "to = {'background':0,'bags':1,'door':2,'keyboard':3,'knocking':4,'ring':5,'speech':6,'tool':7}\n",
    "X_test, y_test =X_full[T != 'unknown'],  np.array([to[x] for x in T[T != 'unknown']])\n",
    "X_unknown = X_full[T == 'unknown']"
   ]
  },
  {
   "cell_type": "markdown",
   "metadata": {},
   "source": [
    "## 2. mfcc only"
   ]
  },
  {
   "cell_type": "code",
   "execution_count": 5,
   "metadata": {
    "scrolled": true
   },
   "outputs": [
    {
     "name": "stdout",
     "output_type": "stream",
     "text": [
      "0 0.5690793991088867\n",
      "300 3.9329147338867188\n",
      "600 7.083946943283081\n",
      "900 10.372597455978394\n",
      "1200 13.718027114868164\n",
      "1500 16.815144300460815\n",
      "1800 20.376691579818726\n",
      "2100 23.496838808059692\n",
      "2400 27.453993797302246\n",
      "2700 30.653042554855347\n",
      "3000 33.998536109924316\n",
      "3300 37.16329765319824\n",
      "3600 40.7586989402771\n",
      "3900 43.51349639892578\n",
      "4200 46.29870820045471\n",
      "4500 50.039504051208496\n",
      "4800 53.13438534736633\n",
      "5100 55.83721947669983\n",
      "5400 59.722572803497314\n",
      "5700 63.05256175994873\n",
      "6000 66.35065150260925\n",
      "6300 69.67478084564209\n",
      "6600 72.96141409873962\n",
      "6900 75.98595523834229\n",
      "7200 78.67790722846985\n",
      "7500 81.79857611656189\n",
      "7800 85.05421876907349\n",
      "8100 88.24935626983643\n",
      "8400 91.26386260986328\n",
      "8700 94.3135130405426\n",
      "9000 97.29276657104492\n",
      "9300 100.64738750457764\n",
      "9600 103.97904968261719\n",
      "9900 107.05752825737\n",
      "10200 110.43324971199036\n",
      "10500 113.2438178062439\n",
      "10800 116.28751158714294\n",
      "11100 119.23323583602905\n"
     ]
    },
    {
     "ename": "NameError",
     "evalue": "name 'files' is not defined",
     "output_type": "error",
     "traceback": [
      "\u001b[0;31m---------------------------------------------------------------------------\u001b[0m",
      "\u001b[0;31mNameError\u001b[0m                                 Traceback (most recent call last)",
      "\u001b[0;32m<ipython-input-5-434c20214f30>\u001b[0m in \u001b[0;36m<module>\u001b[0;34m()\u001b[0m\n\u001b[1;32m      9\u001b[0m         \u001b[0mprint\u001b[0m \u001b[0;34m(\u001b[0m\u001b[0mi\u001b[0m\u001b[0;34m,\u001b[0m \u001b[0mtime\u001b[0m\u001b[0;34m.\u001b[0m\u001b[0mtime\u001b[0m\u001b[0;34m(\u001b[0m\u001b[0;34m)\u001b[0m\u001b[0;34m-\u001b[0m\u001b[0mstart\u001b[0m\u001b[0;34m)\u001b[0m\u001b[0;34m\u001b[0m\u001b[0m\n\u001b[1;32m     10\u001b[0m \u001b[0mmeta2\u001b[0m \u001b[0;34m=\u001b[0m \u001b[0mmeta\u001b[0m\u001b[0;34m.\u001b[0m\u001b[0mset_index\u001b[0m\u001b[0;34m(\u001b[0m\u001b[0;34m'fname'\u001b[0m\u001b[0;34m)\u001b[0m\u001b[0;34m\u001b[0m\u001b[0m\n\u001b[0;32m---> 11\u001b[0;31m \u001b[0mtargets\u001b[0m \u001b[0;34m=\u001b[0m \u001b[0mnp\u001b[0m\u001b[0;34m.\u001b[0m\u001b[0marray\u001b[0m\u001b[0;34m(\u001b[0m\u001b[0mmeta2\u001b[0m\u001b[0;34m.\u001b[0m\u001b[0mloc\u001b[0m\u001b[0;34m[\u001b[0m\u001b[0mfiles\u001b[0m\u001b[0;34m]\u001b[0m\u001b[0;34m[\u001b[0m\u001b[0;34m'type'\u001b[0m\u001b[0;34m]\u001b[0m\u001b[0;34m)\u001b[0m\u001b[0;34m\u001b[0m\u001b[0m\n\u001b[0m\u001b[1;32m     12\u001b[0m \u001b[0mX_train\u001b[0m\u001b[0;34m,\u001b[0m \u001b[0my_train\u001b[0m \u001b[0;34m=\u001b[0m \u001b[0mmfcc\u001b[0m\u001b[0;34m,\u001b[0m \u001b[0mtargets\u001b[0m\u001b[0;34m\u001b[0m\u001b[0m\n",
      "\u001b[0;31mNameError\u001b[0m: name 'files' is not defined"
     ]
    }
   ],
   "source": [
    "n=len(audio_reader.data)\n",
    "X_train = np.zeros((n,40))\n",
    "start = time.time()\n",
    "for i,arr in enumerate(audio_reader.data):\n",
    "    if arr.size == 0:\n",
    "        continue\n",
    "    X_train[i]=np.mean(librosa.feature.mfcc(arr,sr,n_mfcc=40).T,axis=0)\n",
    "    if i%500 == 0:\n",
    "        print (i, time.time()-start)\n",
    "meta2 = meta.set_index('fname')\n",
    "files = [0]*len(audio_reader.files)\n",
    "for i,f in enumerate(audio_reader.files):\n",
    "    files[i]=f.split('/')[-1]\n",
    "y_train = np.array(meta2.loc[files]['type'])"
   ]
  },
  {
   "cell_type": "code",
   "execution_count": 56,
   "metadata": {},
   "outputs": [
    {
     "name": "stdout",
     "output_type": "stream",
     "text": [
      "0.24065589904785156 100\n",
      "0.4848320484161377 200\n",
      "0.7339329719543457 300\n",
      "0.9544987678527832 400\n",
      "1.198190450668335 500\n",
      "1.4346206188201904 600\n",
      "0 0.011100292205810547\n",
      "300 4.476659774780273\n",
      "600 8.003519296646118\n"
     ]
    }
   ],
   "source": [
    "test_dir='./data_v_7_stc/test'\n",
    "test_reader = AudioReader(test_dir,sr,silence_threshold=silence_threshold)\n",
    "test_reader.read()\n",
    "n=len(test_reader.data)\n",
    "X_full = np.zeros((n,40))\n",
    "start = time.time()\n",
    "for i,arr in enumerate(test_reader.data):\n",
    "    if arr.size == 0:\n",
    "        continue\n",
    "    X_full[i]=np.mean(librosa.feature.mfcc(arr,sr,n_mfcc=40).T,axis=0)\n",
    "    if i%300 == 0:\n",
    "        print (i, time.time()-start)\n",
    "to = {'background':0,'bags':1,'door':2,'keyboard':3,'knocking':4,'ring':5,'speech':6,'tool':7}\n",
    "T = np.array(test_reader.id)\n",
    "X_test, y_test =X_full[T != 'unknown'],  np.array([to[x] for x in T[T != 'unknown']])\n",
    "X_unknown = X_full[T == 'unknown']"
   ]
  },
  {
   "cell_type": "markdown",
   "metadata": {},
   "source": [
    "# Classification part"
   ]
  },
  {
   "cell_type": "code",
   "execution_count": 51,
   "metadata": {
    "collapsed": true
   },
   "outputs": [],
   "source": [
    "def score_model(clf, title):\n",
    "    kfold = KFold(n_splits=3)\n",
    "    cv_res = np.mean(cross_val_score(clf, X_train, y_train, cv=kfold, scoring='neg_log_loss'))\n",
    "    print(title, \"Cross_Entropy_Loss: {0:.3f}\".format(cv_res))"
   ]
  },
  {
   "cell_type": "code",
   "execution_count": 135,
   "metadata": {},
   "outputs": [
    {
     "name": "stdout",
     "output_type": "stream",
     "text": [
      "SVM CE: -0.507\n",
      "Случайный лес CE: -0.266\n",
      "Градиентный бустинг(sklearn) CE: -1.840\n",
      "Градиентный бустинг(xgb) CE: -0.240\n"
     ]
    }
   ],
   "source": [
    "models = [\n",
    "    (RandomForestClassifier(max_depth = 10,n_n_estimators = 100,random_state=17), \"Случайный лес\"),\n",
    "    (XGBClassifier(max_depth = 3,n_n_estimators = 1000,random_state=17), \"Градиентный бустинг(xgb)\")\n",
    "]\n",
    "\n",
    "for pair in models:\n",
    "    score_model(*pair)"
   ]
  },
  {
   "cell_type": "code",
   "execution_count": 55,
   "metadata": {
    "collapsed": true,
    "scrolled": true
   },
   "outputs": [],
   "source": [
    "xgb = XGBClassifier(random_state=17)\n",
    "kfold = KFold(n_splits=5)\n",
    "parameters = {'n_estimators':[100,500,1000,1500],\n",
    "              'max_depth': [2,3,4],\n",
    "             }\n",
    "grid = GridSearchCV(xgb, parameters, n_jobs=-1, \n",
    "                    cv=kfold, scoring='neg_log_loss', refit=True)\n",
    "grid.fit(X_train, y_train);"
   ]
  },
  {
   "cell_type": "markdown",
   "metadata": {},
   "source": [
    "## Обучение классификатора"
   ]
  },
  {
   "cell_type": "code",
   "execution_count": 13,
   "metadata": {},
   "outputs": [
    {
     "data": {
      "text/plain": [
       "(0.94503171247357298, 0.21507929378836504)"
      ]
     },
     "execution_count": 13,
     "metadata": {},
     "output_type": "execute_result"
    }
   ],
   "source": [
    "xgb =  XGBClassifier(n_estimators=2000, max_depth=3 ,n_jobs=-1, random_state=17)\n",
    "xgb.fit(X_train, y_train)\n",
    "pred = xgb.predict_proba(X_test)\n",
    "idx, score = pred.argmax(axis=1), pred.max(axis=1)\n",
    "if drop:\n",
    "    idx[mask_test] = 0\n",
    "    score[mask_test] = 1\n",
    "accuracy_score(y_test,idx), log_loss(y_test,pred)"
   ]
  },
  {
   "cell_type": "code",
   "execution_count": 14,
   "metadata": {},
   "outputs": [
    {
     "name": "stdout",
     "output_type": "stream",
     "text": [
      "[['door_t_0019.wav' '0.9941815733909607' 'door']\n",
      " ['unknown_0095.wav' '0.6863473057746887' 'knocking_door']\n",
      " ['knocking_door_t_0009.wav' '0.999968409538269' 'knocking_door']\n",
      " ..., \n",
      " ['door_t_0014.wav' '0.9909947514533997' 'door']\n",
      " ['unknown_0107.wav' '0.40711191296577454' 'knocking_door']\n",
      " ['speech_0051.wav' '0.8845217823982239' 'speech']]\n"
     ]
    }
   ],
   "source": [
    "def write_pred(est, arr,files,drop): \n",
    "    pred = est.predict_proba(arr)\n",
    "    idx, score = pred.argmax(axis=1), pred.max(axis=1)\n",
    "    if drop:\n",
    "        idx[np.invert(test_reader.pred_category)] = 0\n",
    "        score[np.invert(test_reader.pred_category)] = 1\n",
    "    lables = np.array([fr[x] for x in idx])\n",
    "    res = np.column_stack((files,score,lables))\n",
    "    print (res)\n",
    "    np.savetxt('to_ret_all-2.txt',res,delimiter='\\t',fmt=\"%s\")\n",
    "write_pred(xgb,X_full,test_reader.fnames,drop)"
   ]
  },
  {
   "cell_type": "code",
   "execution_count": null,
   "metadata": {
    "collapsed": true
   },
   "outputs": [],
   "source": []
  }
 ],
 "metadata": {
  "kernelspec": {
   "display_name": "Python 3",
   "language": "python",
   "name": "python3"
  },
  "language_info": {
   "codemirror_mode": {
    "name": "ipython",
    "version": 3
   },
   "file_extension": ".py",
   "mimetype": "text/x-python",
   "name": "python",
   "nbconvert_exporter": "python",
   "pygments_lexer": "ipython3",
   "version": "3.6.3"
  }
 },
 "nbformat": 4,
 "nbformat_minor": 2
}
